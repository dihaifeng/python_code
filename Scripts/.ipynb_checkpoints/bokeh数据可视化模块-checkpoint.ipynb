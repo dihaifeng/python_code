{
 "cells": [
  {
   "cell_type": "code",
   "execution_count": 3,
   "metadata": {
    "scrolled": true
   },
   "outputs": [],
   "source": [
    "from bokeh.io import show, output_file\n",
    "from bokeh.models import ColumnDataSource\n",
    "from bokeh.palettes import Spectral6\n",
    "from bokeh.plotting import figure\n",
    "output_file(\"colormapped_bars.html\")#  配置输出文件名\n",
    "fruits = ['Apples', '魅族', 'OPPO', 'VIVO', '小米', '华为'] # 数据\n",
    "counts = [5, 3, 4, 2, 4, 6] # 数据\n",
    "source = ColumnDataSource(data=dict(fruits=fruits, counts=counts, color=Spectral6))\n",
    "p = figure(x_range=fruits, y_range=(0,9), plot_height=250, title=\"Fruit Counts\",\n",
    "           toolbar_location=None, tools=\"\")# 条形图配置项\n",
    "p.vbar(x='fruits', top='counts', width=0.9, color='color', legend=\"fruits\", source=source)\n",
    "p.xgrid.grid_line_color = None # 配置网格线颜色\n",
    "p.legend.orientation = \"horizontal\" # 图表方向为水平方向\n",
    "p.legend.location = \"top_center\"\n",
    "show(p)"
   ]
  },
  {
   "cell_type": "code",
   "execution_count": null,
   "metadata": {},
   "outputs": [],
   "source": [
    "\n"
   ]
  }
 ],
 "metadata": {
  "kernelspec": {
   "display_name": "Python 3",
   "language": "python",
   "name": "python3"
  },
  "language_info": {
   "codemirror_mode": {
    "name": "ipython",
    "version": 3
   },
   "file_extension": ".py",
   "mimetype": "text/x-python",
   "name": "python",
   "nbconvert_exporter": "python",
   "pygments_lexer": "ipython3",
   "version": "3.6.1"
  }
 },
 "nbformat": 4,
 "nbformat_minor": 2
}
